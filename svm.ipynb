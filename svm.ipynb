{
 "cells": [
  {
   "cell_type": "code",
   "execution_count": 1,
   "metadata": {},
   "outputs": [
    {
     "name": "stderr",
     "output_type": "stream",
     "text": [
      "/usr/local/lib/python3.5/dist-packages/sklearn/cross_validation.py:41: DeprecationWarning: This module was deprecated in version 0.18 in favor of the model_selection module into which all the refactored classes and functions are moved. Also note that the interface of the new CV iterators are different from that of this module. This module will be removed in 0.20.\n",
      "  \"This module will be removed in 0.20.\", DeprecationWarning)\n"
     ]
    }
   ],
   "source": [
    "#from keras.applications import VGG16\n",
    "import numpy as np\n",
    "import os\n",
    "import cv2\n",
    "from sklearn import preprocessing,cross_validation,svm\n",
    "import matplotlib.pyplot as plt"
   ]
  },
  {
   "cell_type": "code",
   "execution_count": 2,
   "metadata": {},
   "outputs": [],
   "source": [
    "#conv_base=VGG16(weights='imagenet',\n",
    "#                include_top=False,\n",
    "#                input_shape=(224,224,3))\n",
    "\n",
    "def load_images_from_folder(folder):\n",
    "    images = []\n",
    "    for filename in os.listdir(folder):\n",
    "        if any([filename.endswith(x) for x in ['.jpeg', '.jpg','.JPG']]):\n",
    "            img = cv2.imread(os.path.join(folder, filename))\n",
    "            if img is not None:\n",
    "                images.append(img)\n",
    "    return images\n"
   ]
  },
  {
   "cell_type": "code",
   "execution_count": 3,
   "metadata": {},
   "outputs": [],
   "source": [
    "folders = [\n",
    "    '1',\n",
    "    '2',\n",
    "]\n",
    "\n",
    "df={}\n",
    "for folder in folders:\n",
    "    df[folder] = np.array(load_images_from_folder(folder))"
   ]
  },
  {
   "cell_type": "code",
   "execution_count": 4,
   "metadata": {},
   "outputs": [
    {
     "name": "stdout",
     "output_type": "stream",
     "text": [
      "1.0\n",
      "(548, 150528)\n",
      "(548,)\n"
     ]
    }
   ],
   "source": [
    "for folder in folders:\n",
    "    df[folder] = df[folder].reshape(len(df[folder]),224*224*3)\n",
    "X=[]\n",
    "y=[]\n",
    "for i in folders:\n",
    "\tfor elem in df[i]:\n",
    "\t\tX.append(elem)\n",
    "\t\ty.append(int(i)-1)\n",
    "X=np.array(X)\n",
    "y=np.array(y)\n",
    "X=X/255*1.0\n",
    "print(np.max(X))\n",
    "print(X.shape)\n",
    "print(y.shape)"
   ]
  },
  {
   "cell_type": "code",
   "execution_count": 5,
   "metadata": {},
   "outputs": [
    {
     "name": "stdout",
     "output_type": "stream",
     "text": [
      "1.0\n"
     ]
    }
   ],
   "source": [
    "\n",
    "X_train,X_test,y_train,y_test=cross_validation.train_test_split(X,y,test_size=0.05)\n",
    "\n",
    "clf=svm.SVC(kernel='linear')\n",
    "clf.fit(X_train,y_train)\n",
    "\n",
    "accuracy=clf.score(X_test,y_test)\n",
    "print(accuracy)"
   ]
  },
  {
   "cell_type": "code",
   "execution_count": 21,
   "metadata": {},
   "outputs": [
    {
     "name": "stdout",
     "output_type": "stream",
     "text": [
      "1.0\n",
      "[0]\n"
     ]
    }
   ],
   "source": [
    "img=cv2.imread(\"3.jpeg\")\n",
    "img=img.reshape(1,-1)\n",
    "img=img/255\n",
    "print(np.max(img))\n",
    "prediction=clf.predict(img)\n",
    "print(prediction)"
   ]
  },
  {
   "cell_type": "code",
   "execution_count": 15,
   "metadata": {},
   "outputs": [
    {
     "name": "stdout",
     "output_type": "stream",
     "text": [
      "(9, 224, 224, 3)\n"
     ]
    }
   ],
   "source": [
    "test=load_images_from_folder('4')\n",
    "test=np.array(test)\n",
    "print(test.shape)\n",
    "test=test.reshape(9,224*224*3)\n",
    "test=test/255\n",
    "prediction=clf.predict(test)"
   ]
  },
  {
   "cell_type": "code",
   "execution_count": 16,
   "metadata": {},
   "outputs": [
    {
     "name": "stdout",
     "output_type": "stream",
     "text": [
      "[0 0 1 0 0 0 0 0 0]\n"
     ]
    }
   ],
   "source": [
    "print(prediction)"
   ]
  },
  {
   "cell_type": "code",
   "execution_count": null,
   "metadata": {},
   "outputs": [],
   "source": []
  }
 ],
 "metadata": {
  "kernelspec": {
   "display_name": "Python 3",
   "language": "python",
   "name": "python3"
  },
  "language_info": {
   "codemirror_mode": {
    "name": "ipython",
    "version": 3
   },
   "file_extension": ".py",
   "mimetype": "text/x-python",
   "name": "python",
   "nbconvert_exporter": "python",
   "pygments_lexer": "ipython3",
   "version": "3.5.2"
  }
 },
 "nbformat": 4,
 "nbformat_minor": 2
}
